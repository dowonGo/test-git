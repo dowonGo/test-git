{
 "cells": [
  {
   "cell_type": "code",
   "execution_count": 3,
   "id": "0e22de93-d18e-4028-a8b7-01676f1b3be4",
   "metadata": {},
   "outputs": [],
   "source": [
    "import pandas as pd\n",
    "wine = pd.read_csv(\"http://bit.ly/wine_csv_data\")"
   ]
  },
  {
   "cell_type": "code",
   "execution_count": 5,
   "id": "a3143101-7e5e-419c-a946-ba00562e0842",
   "metadata": {},
   "outputs": [],
   "source": [
    "data=wine[['alcohol','sugar','pH']].to_numpy()\n",
    "target=wine['class'].to_numpy()"
   ]
  },
  {
   "cell_type": "code",
   "execution_count": null,
   "id": "ccb5b6d1-b32a-4038-898c-e7a636efed63",
   "metadata": {},
   "outputs": [],
   "source": []
  }
 ],
 "metadata": {
  "kernelspec": {
   "display_name": "Python 3 (ipykernel)",
   "language": "python",
   "name": "python3"
  },
  "language_info": {
   "codemirror_mode": {
    "name": "ipython",
    "version": 3
   },
   "file_extension": ".py",
   "mimetype": "text/x-python",
   "name": "python",
   "nbconvert_exporter": "python",
   "pygments_lexer": "ipython3",
   "version": "3.12.4"
  }
 },
 "nbformat": 4,
 "nbformat_minor": 5
}
