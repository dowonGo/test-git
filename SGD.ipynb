{
 "cells": [
  {
   "cell_type": "code",
   "execution_count": 1,
   "id": "26edbb25-4cb8-4799-a4dd-858aeae2fd59",
   "metadata": {},
   "outputs": [],
   "source": [
    "import pandas as pd\n",
    "fish = pd.read_csv('http://bit.ly/fish_csv_data')\n"
   ]
  },
  {
   "cell_type": "code",
   "execution_count": 3,
   "id": "bc3d223f-0ee1-4cab-9375-91a8a3c6e381",
   "metadata": {},
   "outputs": [],
   "source": [
    "fish_input=fish[['Weight','Length','Diagonal','Height','Width']].to_numpy()\n",
    "fish_target=fish['Species'].to_numpy()"
   ]
  },
  {
   "cell_type": "code",
   "execution_count": 5,
   "id": "2468cd0c-1152-4e50-94ea-4dca268a3eaf",
   "metadata": {},
   "outputs": [],
   "source": [
    "from sklearn.model_selection import train_test_split\n",
    "train_input ,test_input , train_target, test_target = train_test_split(fish_input, fish_target, random_state=42)"
   ]
  },
  {
   "cell_type": "code",
   "execution_count": 7,
   "id": "19447bbb-62ae-44ba-b6d4-663d68571abd",
   "metadata": {},
   "outputs": [],
   "source": [
    "from sklearn.preprocessing import StandardScaler\n",
    "ss=StandardScaler()\n",
    "ss.fit(train_input)\n",
    "train_scaled = ss.transform(train_input)\n",
    "test_scaled = ss.transform(test_input)\n"
   ]
  },
  {
   "cell_type": "code",
   "execution_count": 11,
   "id": "cc77a23a-e463-40fd-a74d-53a7f4598a2e",
   "metadata": {},
   "outputs": [],
   "source": [
    "from sklearn.linear_model import SGDClassifier"
   ]
  },
  {
   "cell_type": "code",
   "execution_count": 17,
   "id": "51c585bf-5d59-4f2b-829e-eee667594d0e",
   "metadata": {},
   "outputs": [
    {
     "name": "stderr",
     "output_type": "stream",
     "text": [
      "C:\\Users\\dowon ko\\anaconda3\\Lib\\site-packages\\sklearn\\linear_model\\_stochastic_gradient.py:723: ConvergenceWarning: Maximum number of iteration reached before convergence. Consider increasing max_iter to improve the fit.\n",
      "  warnings.warn(\n"
     ]
    },
    {
     "data": {
      "text/plain": [
       "(0.773109243697479, 0.775)"
      ]
     },
     "execution_count": 17,
     "metadata": {},
     "output_type": "execute_result"
    }
   ],
   "source": [
    "sc =SGDClassifier(loss='log_loss', max_iter=10, random_state=42)\n",
    "sc.fit(train_scaled, train_target)\n",
    "sc.score(train_scaled,train_target),sc.score(test_scaled , test_target)"
   ]
  },
  {
   "cell_type": "code",
   "execution_count": 19,
   "id": "0e8619d3-fe61-40e8-bfef-9660f86be651",
   "metadata": {},
   "outputs": [
    {
     "data": {
      "text/plain": [
       "(0.8151260504201681, 0.85)"
      ]
     },
     "execution_count": 19,
     "metadata": {},
     "output_type": "execute_result"
    }
   ],
   "source": [
    "sc.partial_fit(train_scaled, train_target)\n",
    "sc.score(train_scaled, train_target),sc.score(test_scaled, test_target)"
   ]
  },
  {
   "cell_type": "markdown",
   "id": "b45da082-542f-40d9-9cf1-fb3057636bb3",
   "metadata": {},
   "source": [
    "코드를 보면 모델을 학습시킬때 train.test데이터를 한꺼번에 넣어서 훈련을 시켰다.\n",
    "그러면 확률적 경사 하강법 아닌 미니 배치 경사하강법으로 오해할 수 있다.\n",
    "하지만 확률적 경사하강법 함수안에는 데이터의 샘플을 하나씩 가지고 와서 훈련을 하는 알고리즘이 있다."
   ]
  },
  {
   "cell_type": "code",
   "execution_count": 27,
   "id": "995222ea-5a48-4980-b2b6-e0a9cbddaccf",
   "metadata": {},
   "outputs": [],
   "source": [
    "import numpy as np\n",
    "sc =SGDClassifier(loss='log_loss',random_state=42)\n",
    "train_score = []\n",
    "test_score = []\n",
    "classes= np.unique(train_target)"
   ]
  },
  {
   "cell_type": "code",
   "execution_count": 29,
   "id": "2b2b5213-71ca-49f1-8f13-fdfd0f687691",
   "metadata": {},
   "outputs": [],
   "source": [
    "for _ in range(0,300):\n",
    "    sc.partial_fit(train_scaled, train_target, classes=classes)\n",
    "    train_score.append(sc.score(train_scaled,train_target))\n",
    "    test_score.append(sc.score(test_scaled, test_target))"
   ]
  },
  {
   "cell_type": "code",
   "execution_count": 31,
   "id": "68b8f1a3-7c3c-4a02-aed9-2298f2fe1357",
   "metadata": {},
   "outputs": [
    {
     "data": {
      "text/plain": [
       "Text(0, 0.5, 'accuravy')"
      ]
     },
     "execution_count": 31,
     "metadata": {},
     "output_type": "execute_result"
    },
    {
     "data": {
      "image/png": "[encoded data removed]",
      "text/plain": [
       "<Figure size 640x480 with 1 Axes>"
      ]
     },
     "metadata": {},
     "output_type": "display_data"
    }
   ],
   "source": [
    "import matplotlib.pyplot as plt\n",
    "plt.plot(train_score)\n",
    "plt.plot(test_score)\n",
    "plt.xlabel('epoch')\n",
    "plt.ylabel('accuravy')"
   ]
  },
  {
   "cell_type": "code",
   "execution_count": 33,
   "id": "8f2e5431-953a-4caa-8beb-7d39c5ffa115",
   "metadata": {},
   "outputs": [
    {
     "data": {
      "text/plain": [
       "(0.957983193277311, 0.925)"
      ]
     },
     "execution_count": 33,
     "metadata": {},
     "output_type": "execute_result"
    }
   ],
   "source": [
    "sc =SGDClassifier(loss='log_loss', max_iter=100, tol=None, random_state=42)\n",
    "sc.fit(train_scaled, train_target)\n",
    "sc.score(train_scaled, train_target),sc.score(test_scaled, test_target)"
   ]
  },
  {
   "cell_type": "code",
   "execution_count": 35,
   "id": "74c5278d-35ab-4014-b7af-0351947ac91e",
   "metadata": {},
   "outputs": [
    {
     "data": {
      "text/plain": [
       "(0.9495798319327731, 0.925)"
      ]
     },
     "execution_count": 35,
     "metadata": {},
     "output_type": "execute_result"
    }
   ],
   "source": [
    "sc= SGDClassifier(loss='hinge', max_iter=100, tol=None , random_state=42)\n",
    "sc.fit(train_scaled, train_target)\n",
    "sc.score(train_scaled, train_target),sc.score(test_scaled, test_target)"
   ]
  },
  {
   "cell_type": "markdown",
   "id": "f72b8211-102e-4e70-929f-f375607ddd7e",
   "metadata": {},
   "source": [
    "경사하강법은 손실함수를 미분해서 가중치를 갱신하는 알고리즘이다.\n",
    "손실함수는 최솟값을 구하기 위한것이기 때문에 손실함수의 최솟값을 구해야함 그러면 손실함수를 미분하여 0이 되게 하면 아닌가 생각할 수 있는데 대부분 손실함수는 비선형 함수이기 때문에 손실함수를 미분하여 가중치를 갱신하는 것이다."
   ]
  },
  {
   "cell_type": "markdown",
   "id": "0cfcadae-a9dc-4940-8b08-9e2cefe754f4",
   "metadata": {},
   "source": []
  },
  {
   "cell_type": "code",
   "execution_count": null,
   "id": "1812ed92-4132-4730-a060-a362a2c3f339",
   "metadata": {},
   "outputs": [],
   "source": []
  }
 ],
 "metadata": {
  "kernelspec": {
   "display_name": "Python 3 (ipykernel)",
   "language": "python",
   "name": "python3"
  },
  "language_info": {
   "codemirror_mode": {
    "name": "ipython",
    "version": 3
   },
   "file_extension": ".py",
   "mimetype": "text/x-python",
   "name": "python",
   "nbconvert_exporter": "python",
   "pygments_lexer": "ipython3",
   "version": "3.12.4"
  }
 },
 "nbformat": 4,
 "nbformat_minor": 5
}
