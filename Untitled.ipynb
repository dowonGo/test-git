{
 "cells": [
  {
   "cell_type": "code",
   "execution_count": null,
   "id": "55e57386",
   "metadata": {},
   "outputs": [],
   "source": [
    "print(\"ㅎㅇㅎㅇ 나 자퇴함\")"
   ]
  }
 ],
 "metadata": {
  "kernelspec": {
   "display_name": "Python 3 (ipykernel)",
   "language": "python",
   "name": "python3"
  },
  "language_info": {
   "codemirror_mode": {
    "name": "ipython",
    "version": 3
   },
   "file_extension": ".py",
   "mimetype": "text/x-python",
   "name": "python",
   "nbconvert_exporter": "python",
   "pygments_lexer": "ipython3",
   "version": "3.8.18"
  }
 },
 "nbformat": 4,
 "nbformat_minor": 5
}
