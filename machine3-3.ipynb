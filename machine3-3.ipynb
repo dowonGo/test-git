{
 "cells": [
  {
   "cell_type": "markdown",
   "metadata": {
    "id": "g3769c0rdkAa"
   },
   "source": [
    "다항 회귀와 다중 회귀의 차이점\n",
    "다항 회귀는 특성하나를 여러개의 항으로 만들는 것이고\n",
    "다중 회귀는 특성 여러개를 사용하여 회귀 하는 것이다.\n",
    "예로 들어서 다항 회귀는 특성을 여러개의 항으로 만든다고 치고 그래프를 그릴때 2차원으로 표현이 가능하지만\n",
    "다중 회귀는 특성하나당 하나의 차원을 차지하므로 특성이 여러개일 수록 차원이 계속늘어나 다차원을 띄는 성격의 그래프가 그려진다."
   ]
  },
  {
   "cell_type": "code",
   "execution_count": 1,
   "metadata": {
    "colab": {
     "base_uri": "https://localhost:8080/"
    },
    "executionInfo": {
     "elapsed": 2556,
     "status": "ok",
     "timestamp": 1723451282269,
     "user": {
      "displayName": "고도원",
      "userId": "12670180140710065268"
     },
     "user_tz": -540
    },
    "id": "oklwxyDKdKLq",
    "outputId": "e967c3ef-31ff-4f4c-c2eb-7c82936bdf16"
   },
   "outputs": [
    {
     "name": "stdout",
     "output_type": "stream",
     "text": [
      "[[ 8.4   2.11  1.41]\n",
      " [13.7   3.53  2.  ]\n",
      " [15.    3.82  2.43]\n",
      " [16.2   4.59  2.63]\n",
      " [17.4   4.59  2.94]\n",
      " [18.    5.22  3.32]\n",
      " [18.7   5.2   3.12]\n",
      " [19.    5.64  3.05]\n",
      " [19.6   5.14  3.04]\n",
      " [20.    5.08  2.77]\n",
      " [21.    5.69  3.56]\n",
      " [21.    5.92  3.31]\n",
      " [21.    5.69  3.67]\n",
      " [21.3   6.38  3.53]\n",
      " [22.    6.11  3.41]\n",
      " [22.    5.64  3.52]\n",
      " [22.    6.11  3.52]\n",
      " [22.    5.88  3.52]\n",
      " [22.    5.52  4.  ]\n",
      " [22.5   5.86  3.62]\n",
      " [22.5   6.79  3.62]\n",
      " [22.7   5.95  3.63]\n",
      " [23.    5.22  3.63]\n",
      " [23.5   6.28  3.72]\n",
      " [24.    7.29  3.72]\n",
      " [24.    6.38  3.82]\n",
      " [24.6   6.73  4.17]\n",
      " [25.    6.44  3.68]\n",
      " [25.6   6.56  4.24]\n",
      " [26.5   7.17  4.14]\n",
      " [27.3   8.32  5.14]\n",
      " [27.5   7.17  4.34]\n",
      " [27.5   7.05  4.34]\n",
      " [27.5   7.28  4.57]\n",
      " [28.    7.82  4.2 ]\n",
      " [28.7   7.59  4.64]\n",
      " [30.    7.62  4.77]\n",
      " [32.8  10.03  6.02]\n",
      " [34.5  10.26  6.39]\n",
      " [35.   11.49  7.8 ]\n",
      " [36.5  10.88  6.86]\n",
      " [36.   10.61  6.74]\n",
      " [37.   10.84  6.26]\n",
      " [37.   10.57  6.37]\n",
      " [39.   11.14  7.49]\n",
      " [39.   11.14  6.  ]\n",
      " [39.   12.43  7.35]\n",
      " [40.   11.93  7.11]\n",
      " [40.   11.73  7.22]\n",
      " [40.   12.38  7.46]\n",
      " [40.   11.14  6.63]\n",
      " [42.   12.8   6.87]\n",
      " [43.   11.93  7.28]\n",
      " [43.   12.51  7.42]\n",
      " [43.5  12.6   8.14]\n",
      " [44.   12.49  7.6 ]]\n"
     ]
    }
   ],
   "source": [
    "import pandas as pd\n",
    "df =pd.read_csv('http://bit.ly/perch_csv_data')\n",
    "perch_full=df.to_numpy()\n",
    "print(perch_full)"
   ]
  },
  {
   "cell_type": "code",
   "execution_count": 2,
   "metadata": {
    "executionInfo": {
     "elapsed": 18,
     "status": "ok",
     "timestamp": 1723451282272,
     "user": {
      "displayName": "고도원",
      "userId": "12670180140710065268"
     },
     "user_tz": -540
    },
    "id": "P1yJy_6he7cQ"
   },
   "outputs": [],
   "source": [
    "import numpy as np\n",
    "perch_length = np.array([8.4, 13.7, 15.0, 16.2, 17.4, 18.0, 18.7, 19.0, 19.6, 20.0, 21.0,\n",
    "       21.0, 21.0, 21.3, 22.0, 22.0, 22.0, 22.0, 22.0, 22.5, 22.5, 22.7,\n",
    "       23.0, 23.5, 24.0, 24.0, 24.6, 25.0, 25.6, 26.5, 27.3, 27.5, 27.5,\n",
    "       27.5, 28.0, 28.7, 30.0, 32.8, 34.5, 35.0, 36.5, 36.0, 37.0, 37.0,\n",
    "       39.0, 39.0, 39.0, 40.0, 40.0, 40.0, 40.0, 42.0, 43.0, 43.0, 43.5,\n",
    "       44.0])\n",
    "perch_weight = np.array([5.9, 32.0, 40.0, 51.5, 70.0, 100.0, 78.0, 80.0, 85.0, 85.0, 110.0,\n",
    "       115.0, 125.0, 130.0, 120.0, 120.0, 130.0, 135.0, 110.0, 130.0,\n",
    "       150.0, 145.0, 150.0, 170.0, 225.0, 145.0, 188.0, 180.0, 197.0,\n",
    "       218.0, 300.0, 260.0, 265.0, 250.0, 250.0, 300.0, 320.0, 514.0,\n",
    "       556.0, 840.0, 685.0, 700.0, 700.0, 690.0, 900.0, 650.0, 820.0,\n",
    "       850.0, 900.0, 1015.0, 820.0, 1100.0, 1000.0, 1100.0, 1000.0,\n",
    "       1000.0])"
   ]
  },
  {
   "cell_type": "code",
   "execution_count": 3,
   "metadata": {
    "executionInfo": {
     "elapsed": 3550,
     "status": "ok",
     "timestamp": 1723451285808,
     "user": {
      "displayName": "고도원",
      "userId": "12670180140710065268"
     },
     "user_tz": -540
    },
    "id": "NG_i23GIfn6H"
   },
   "outputs": [],
   "source": [
    "from sklearn.model_selection import train_test_split\n",
    "train_input,test_input,train_target,test_target = train_test_split(perch_full,perch_weight,random_state=42)"
   ]
  },
  {
   "cell_type": "code",
   "execution_count": 4,
   "metadata": {
    "colab": {
     "base_uri": "https://localhost:8080/"
    },
    "executionInfo": {
     "elapsed": 77,
     "status": "ok",
     "timestamp": 1723451285809,
     "user": {
      "displayName": "고도원",
      "userId": "12670180140710065268"
     },
     "user_tz": -540
    },
    "id": "MQrOKX-TgFAB",
    "outputId": "d046c2e0-8ff2-4534-f3cc-2a380459ada2"
   },
   "outputs": [
    {
     "data": {
      "text/plain": [
       "array([[1., 2., 3., 4., 6., 9.]])"
      ]
     },
     "execution_count": 4,
     "metadata": {},
     "output_type": "execute_result"
    }
   ],
   "source": [
    "from sklearn.preprocessing import PolynomialFeatures\n",
    "poly=PolynomialFeatures()\n",
    "poly.fit_transform([[2,3]])"
   ]
  },
  {
   "cell_type": "code",
   "execution_count": 5,
   "metadata": {
    "colab": {
     "base_uri": "https://localhost:8080/"
    },
    "executionInfo": {
     "elapsed": 73,
     "status": "ok",
     "timestamp": 1723451285810,
     "user": {
      "displayName": "고도원",
      "userId": "12670180140710065268"
     },
     "user_tz": -540
    },
    "id": "4FQEezgShyGS",
    "outputId": "23f9d62f-eda9-4346-b578-158d624b2ae7"
   },
   "outputs": [
    {
     "data": {
      "text/plain": [
       "array([[2., 3., 4., 6., 9.]])"
      ]
     },
     "execution_count": 5,
     "metadata": {},
     "output_type": "execute_result"
    }
   ],
   "source": [
    "poly=PolynomialFeatures(include_bias=False)\n",
    "poly.fit_transform([[2,3]])"
   ]
  },
  {
   "cell_type": "code",
   "execution_count": 6,
   "metadata": {
    "colab": {
     "base_uri": "https://localhost:8080/"
    },
    "executionInfo": {
     "elapsed": 67,
     "status": "ok",
     "timestamp": 1723451285811,
     "user": {
      "displayName": "고도원",
      "userId": "12670180140710065268"
     },
     "user_tz": -540
    },
    "id": "2v-CN3ZSjE5q",
    "outputId": "2bc0bf2b-6d48-40dd-a358-1e0f2cb4f388"
   },
   "outputs": [
    {
     "data": {
      "text/plain": [
       "(42, 9)"
      ]
     },
     "execution_count": 6,
     "metadata": {},
     "output_type": "execute_result"
    }
   ],
   "source": [
    "poly=PolynomialFeatures(include_bias=False)\n",
    "train_poly=poly.fit_transform(train_input)\n",
    "train_poly.shape"
   ]
  },
  {
   "cell_type": "code",
   "execution_count": 7,
   "metadata": {
    "colab": {
     "base_uri": "https://localhost:8080/"
    },
    "executionInfo": {
     "elapsed": 63,
     "status": "ok",
     "timestamp": 1723451285812,
     "user": {
      "displayName": "고도원",
      "userId": "12670180140710065268"
     },
     "user_tz": -540
    },
    "id": "pCrEKeKIjXZp",
    "outputId": "2b1d1461-14ce-4738-9620-7ca5d7be978d"
   },
   "outputs": [
    {
     "data": {
      "text/plain": [
       "array(['x0', 'x1', 'x2', 'x0^2', 'x0 x1', 'x0 x2', 'x1^2', 'x1 x2',\n",
       "       'x2^2'], dtype=object)"
      ]
     },
     "execution_count": 7,
     "metadata": {},
     "output_type": "execute_result"
    }
   ],
   "source": [
    "poly.get_feature_names_out()"
   ]
  },
  {
   "cell_type": "code",
   "execution_count": 8,
   "metadata": {
    "executionInfo": {
     "elapsed": 57,
     "status": "ok",
     "timestamp": 1723451285813,
     "user": {
      "displayName": "고도원",
      "userId": "12670180140710065268"
     },
     "user_tz": -540
    },
    "id": "EwUrM8lxj46q"
   },
   "outputs": [],
   "source": [
    "test_poly = poly.transform(test_input)"
   ]
  },
  {
   "cell_type": "code",
   "execution_count": 9,
   "metadata": {
    "colab": {
     "base_uri": "https://localhost:8080/"
    },
    "executionInfo": {
     "elapsed": 54,
     "status": "ok",
     "timestamp": 1723451285813,
     "user": {
      "displayName": "고도원",
      "userId": "12670180140710065268"
     },
     "user_tz": -540
    },
    "id": "8UN66jZ8kAgj",
    "outputId": "9ce87f8e-f6f1-4d2e-c59a-16c7ba7e6e90"
   },
   "outputs": [
    {
     "data": {
      "text/plain": [
       "0.9903183436982125"
      ]
     },
     "execution_count": 9,
     "metadata": {},
     "output_type": "execute_result"
    }
   ],
   "source": [
    "from sklearn.linear_model import LinearRegression\n",
    "lr=LinearRegression()\n",
    "lr.fit(train_poly,train_target)\n",
    "lr.score(train_poly,train_target)"
   ]
  },
  {
   "cell_type": "code",
   "execution_count": 10,
   "metadata": {
    "colab": {
     "base_uri": "https://localhost:8080/"
    },
    "executionInfo": {
     "elapsed": 49,
     "status": "ok",
     "timestamp": 1723451285814,
     "user": {
      "displayName": "고도원",
      "userId": "12670180140710065268"
     },
     "user_tz": -540
    },
    "id": "N_ytzwKPkRx_",
    "outputId": "9063f0b1-a590-4322-d20d-fb562202ca33"
   },
   "outputs": [
    {
     "data": {
      "text/plain": [
       "0.9714559911594111"
      ]
     },
     "execution_count": 10,
     "metadata": {},
     "output_type": "execute_result"
    }
   ],
   "source": [
    "lr.score(test_poly,test_target)"
   ]
  },
  {
   "cell_type": "code",
   "execution_count": 11,
   "metadata": {
    "colab": {
     "base_uri": "https://localhost:8080/"
    },
    "executionInfo": {
     "elapsed": 45,
     "status": "ok",
     "timestamp": 1723451285815,
     "user": {
      "displayName": "고도원",
      "userId": "12670180140710065268"
     },
     "user_tz": -540
    },
    "id": "btFECePokZDa",
    "outputId": "832d3978-2482-4ebf-beec-b6bff4be170c"
   },
   "outputs": [
    {
     "data": {
      "text/plain": [
       "(42, 55)"
      ]
     },
     "execution_count": 11,
     "metadata": {},
     "output_type": "execute_result"
    }
   ],
   "source": [
    "poly=PolynomialFeatures(degree=5,include_bias=False)\n",
    "poly.fit(train_input)\n",
    "train_poly=poly.transform(train_input)\n",
    "test_poly=poly.transform(test_input)\n",
    "train_poly.shape"
   ]
  },
  {
   "cell_type": "code",
   "execution_count": 12,
   "metadata": {
    "colab": {
     "base_uri": "https://localhost:8080/"
    },
    "executionInfo": {
     "elapsed": 40,
     "status": "ok",
     "timestamp": 1723451285816,
     "user": {
      "displayName": "고도원",
      "userId": "12670180140710065268"
     },
     "user_tz": -540
    },
    "id": "YL-SsoMOk0BE",
    "outputId": "ea80543b-19dc-4c6d-bfd9-785c8941ba0e"
   },
   "outputs": [
    {
     "data": {
      "text/plain": [
       "0.9999999999996433"
      ]
     },
     "execution_count": 12,
     "metadata": {},
     "output_type": "execute_result"
    }
   ],
   "source": [
    "lr.fit(train_poly,train_target)\n",
    "lr.score(train_poly,train_target)"
   ]
  },
  {
   "cell_type": "code",
   "execution_count": 13,
   "metadata": {
    "colab": {
     "base_uri": "https://localhost:8080/"
    },
    "executionInfo": {
     "elapsed": 36,
     "status": "ok",
     "timestamp": 1723451285819,
     "user": {
      "displayName": "고도원",
      "userId": "12670180140710065268"
     },
     "user_tz": -540
    },
    "id": "tDZ39wiMldtb",
    "outputId": "44828b6b-aa3d-4820-efd2-b1bc08e71225"
   },
   "outputs": [
    {
     "data": {
      "text/plain": [
       "-144.40579436844948"
      ]
     },
     "execution_count": 13,
     "metadata": {},
     "output_type": "execute_result"
    }
   ],
   "source": [
    "lr.score(test_poly,test_target)"
   ]
  },
  {
   "cell_type": "markdown",
   "metadata": {
    "id": "Q4Svt_MAmRRn"
   },
   "source": [
    "과대 적합이 일어났음\n",
    "-샘플이 42개인데 특성이 55개니까 당연히 훈련에 대해서 완벽하게 학습할 수 있기때문에 훈련 데이터에서는 높은 점수를 얻지만 테스트 데이터에서는 낮은 점수받을 수 밖에 없음\n"
   ]
  },
  {
   "cell_type": "code",
   "execution_count": 14,
   "metadata": {
    "executionInfo": {
     "elapsed": 1056,
     "status": "ok",
     "timestamp": 1723451286845,
     "user": {
      "displayName": "고도원",
      "userId": "12670180140710065268"
     },
     "user_tz": -540
    },
    "id": "pgsstcoflg6B"
   },
   "outputs": [],
   "source": [
    "from sklearn.preprocessing import StandardScaler\n",
    "ss =StandardScaler()\n",
    "ss.fit(train_poly)\n",
    "train_scaled=ss.transform(train_poly)\n",
    "test_scaled=ss.transform(test_poly)"
   ]
  },
  {
   "cell_type": "code",
   "execution_count": 15,
   "metadata": {
    "colab": {
     "base_uri": "https://localhost:8080/"
    },
    "executionInfo": {
     "elapsed": 19,
     "status": "ok",
     "timestamp": 1723451286846,
     "user": {
      "displayName": "고도원",
      "userId": "12670180140710065268"
     },
     "user_tz": -540
    },
    "id": "PUQ9yP-2nDZB",
    "outputId": "916bce24-b9c3-447e-8a6a-88dfd29bf81a"
   },
   "outputs": [
    {
     "data": {
      "text/plain": [
       "0.9896101671037343"
      ]
     },
     "execution_count": 15,
     "metadata": {},
     "output_type": "execute_result"
    }
   ],
   "source": [
    "from sklearn.linear_model import Ridge\n",
    "ridge=Ridge()\n",
    "ridge.fit(train_scaled, train_target)\n",
    "ridge.score(train_scaled,train_target)"
   ]
  },
  {
   "cell_type": "code",
   "execution_count": 16,
   "metadata": {
    "colab": {
     "base_uri": "https://localhost:8080/"
    },
    "executionInfo": {
     "elapsed": 17,
     "status": "ok",
     "timestamp": 1723451286846,
     "user": {
      "displayName": "고도원",
      "userId": "12670180140710065268"
     },
     "user_tz": -540
    },
    "id": "xjU4Eg-aI_CC",
    "outputId": "16642b7c-2046-4060-d9a1-28a3794f029b"
   },
   "outputs": [
    {
     "data": {
      "text/plain": [
       "0.9790693977615387"
      ]
     },
     "execution_count": 16,
     "metadata": {},
     "output_type": "execute_result"
    }
   ],
   "source": [
    "ridge.score(test_scaled,test_target)"
   ]
  },
  {
   "cell_type": "code",
   "execution_count": 17,
   "metadata": {
    "executionInfo": {
     "elapsed": 13,
     "status": "ok",
     "timestamp": 1723451286846,
     "user": {
      "displayName": "고도원",
      "userId": "12670180140710065268"
     },
     "user_tz": -540
    },
    "id": "w8FaXpRDJJeY"
   },
   "outputs": [],
   "source": [
    "import matplotlib.pyplot as plt\n",
    "train_score =[]\n",
    "test_score=[]\n",
    "alpha_list=[0.001,0.01,0.1,1,10,100]\n",
    "for alpha in alpha_list:\n",
    "  ridge=Ridge(alpha=alpha)\n",
    "  ridge.fit(train_scaled, train_target)\n",
    "  train_score.append(ridge.score(train_scaled, train_target))\n",
    "  test_score.append(ridge.score(test_scaled,test_target))"
   ]
  },
  {
   "cell_type": "code",
   "execution_count": 18,
   "metadata": {
    "colab": {
     "base_uri": "https://localhost:8080/",
     "height": 467
    },
    "executionInfo": {
     "elapsed": 1576,
     "status": "ok",
     "timestamp": 1723451288413,
     "user": {
      "displayName": "고도원",
      "userId": "12670180140710065268"
     },
     "user_tz": -540
    },
    "id": "lXxlUxh6K7bM",
    "outputId": "6526d9f5-c520-4801-c25b-ff5fc77813ce"
   },
   "outputs": [
    {
     "data": {
      "text/plain": [
       "Text(0, 0.5, 'R^2')"
      ]
     },
     "execution_count": 18,
     "metadata": {},
     "output_type": "execute_result"
    },
    {
     "data": {
      "image/png": "[encoded data removed]",
      "text/plain": [
       "<Figure size 640x480 with 1 Axes>"
      ]
     },
     "metadata": {},
     "output_type": "display_data"
    }
   ],
   "source": [
    "plt.plot(np.log10(alpha_list), train_score)\n",
    "plt.plot(np.log10(alpha_list), test_score)\n",
    "plt.xlabel('alpha')\n",
    "plt.ylabel(\"R^2\")\n"
   ]
  },
  {
   "cell_type": "code",
   "execution_count": 19,
   "metadata": {
    "colab": {
     "base_uri": "https://localhost:8080/"
    },
    "executionInfo": {
     "elapsed": 41,
     "status": "ok",
     "timestamp": 1723451288415,
     "user": {
      "displayName": "고도원",
      "userId": "12670180140710065268"
     },
     "user_tz": -540
    },
    "id": "Dm6P4fB2LUVw",
    "outputId": "81e79667-e251-4241-b744-7d42bea4ebd0"
   },
   "outputs": [
    {
     "data": {
      "text/plain": [
       "0.9827976465386928"
      ]
     },
     "execution_count": 19,
     "metadata": {},
     "output_type": "execute_result"
    }
   ],
   "source": [
    "ridge=Ridge(alpha=0.1)\n",
    "ridge.fit(train_scaled, train_target)\n",
    "ridge.score(train_scaled, train_target)\n",
    "ridge.score(test_scaled, test_target)"
   ]
  },
  {
   "cell_type": "code",
   "execution_count": 21,
   "metadata": {
    "colab": {
     "base_uri": "https://localhost:8080/"
    },
    "executionInfo": {
     "elapsed": 588,
     "status": "ok",
     "timestamp": 1723451358338,
     "user": {
      "displayName": "고도원",
      "userId": "12670180140710065268"
     },
     "user_tz": -540
    },
    "id": "DvomqwZRLvQo",
    "outputId": "ab88b9ea-9aa6-4237-8313-a164ae13d45f"
   },
   "outputs": [
    {
     "data": {
      "text/plain": [
       "0.989789897208096"
      ]
     },
     "execution_count": 21,
     "metadata": {},
     "output_type": "execute_result"
    }
   ],
   "source": [
    "from sklearn.linear_model import Lasso\n",
    "lasso=Lasso()\n",
    "lasso.fit(train_scaled, train_target)\n",
    "lasso.score(train_scaled, train_target)"
   ]
  },
  {
   "cell_type": "code",
   "execution_count": 22,
   "metadata": {
    "colab": {
     "base_uri": "https://localhost:8080/"
    },
    "executionInfo": {
     "elapsed": 460,
     "status": "ok",
     "timestamp": 1723451382570,
     "user": {
      "displayName": "고도원",
      "userId": "12670180140710065268"
     },
     "user_tz": -540
    },
    "id": "h_0cA-WvtI95",
    "outputId": "76badf9a-30e3-46cd-cec9-6f1dbc89827b"
   },
   "outputs": [
    {
     "data": {
      "text/plain": [
       "0.9800593698421883"
      ]
     },
     "execution_count": 22,
     "metadata": {},
     "output_type": "execute_result"
    }
   ],
   "source": [
    "lasso.score(test_scaled,test_target)"
   ]
  },
  {
   "cell_type": "code",
   "execution_count": 25,
   "metadata": {
    "colab": {
     "base_uri": "https://localhost:8080/",
     "height": 560
    },
    "executionInfo": {
     "elapsed": 1134,
     "status": "ok",
     "timestamp": 1723451787392,
     "user": {
      "displayName": "고도원",
      "userId": "12670180140710065268"
     },
     "user_tz": -540
    },
    "id": "Il_L2EVBtRTF",
    "outputId": "eb62c561-b89b-49d7-f959-70087e9d3ef6"
   },
   "outputs": [
    {
     "name": "stderr",
     "output_type": "stream",
     "text": [
      "/usr/local/lib/python3.10/dist-packages/sklearn/linear_model/_coordinate_descent.py:628: ConvergenceWarning: Objective did not converge. You might want to increase the number of iterations, check the scale of the features or consider increasing regularisation. Duality gap: 1.878e+04, tolerance: 5.183e+02\n",
      "  model = cd_fast.enet_coordinate_descent(\n",
      "/usr/local/lib/python3.10/dist-packages/sklearn/linear_model/_coordinate_descent.py:628: ConvergenceWarning: Objective did not converge. You might want to increase the number of iterations, check the scale of the features or consider increasing regularisation. Duality gap: 1.297e+04, tolerance: 5.183e+02\n",
      "  model = cd_fast.enet_coordinate_descent(\n"
     ]
    },
    {
     "data": {
      "text/plain": [
       "Text(0, 0.5, 'lasso')"
      ]
     },
     "execution_count": 25,
     "metadata": {},
     "output_type": "execute_result"
    },
    {
     "data": {
      "image/png": "[encoded data removed]",
      "text/plain": [
       "<Figure size 640x480 with 1 Axes>"
      ]
     },
     "metadata": {},
     "output_type": "display_data"
    }
   ],
   "source": [
    "train_score=[]\n",
    "test_score=[]\n",
    "alpha_list=[0.001,0.01,0.1,1,10,100]\n",
    "for alpha in alpha_list:\n",
    "  lasso=Lasso(alpha=alpha,max_iter=10000)\n",
    "  lasso.fit(train_scaled,train_target)\n",
    "  train_score.append(lasso.score(train_scaled,train_target))\n",
    "  test_score.append(lasso.score(test_scaled,test_target))\n",
    "plt.plot(np.log10(alpha_list),train_score)\n",
    "plt.plot(np.log10(alpha_list),test_score)\n",
    "plt.xlabel(\"alpha\")\n",
    "plt.ylabel('lasso')"
   ]
  },
  {
   "cell_type": "code",
   "execution_count": 27,
   "metadata": {
    "colab": {
     "base_uri": "https://localhost:8080/"
    },
    "executionInfo": {
     "elapsed": 484,
     "status": "ok",
     "timestamp": 1723452071359,
     "user": {
      "displayName": "고도원",
      "userId": "12670180140710065268"
     },
     "user_tz": -540
    },
    "id": "EhLgzgAwuXgD",
    "outputId": "4b9ac993-44e5-4714-8d23-f257e362c953"
   },
   "outputs": [
    {
     "data": {
      "text/plain": [
       "40"
      ]
     },
     "execution_count": 27,
     "metadata": {},
     "output_type": "execute_result"
    }
   ],
   "source": [
    "lasso=Lasso(alpha=10)\n",
    "lasso.fit(train_scaled,train_target)\n",
    "np.sum(lasso.coef_==0)"
   ]
  },
  {
   "cell_type": "code",
   "execution_count": 29,
   "metadata": {
    "colab": {
     "base_uri": "https://localhost:8080/"
    },
    "executionInfo": {
     "elapsed": 528,
     "status": "ok",
     "timestamp": 1723452103623,
     "user": {
      "displayName": "고도원",
      "userId": "12670180140710065268"
     },
     "user_tz": -540
    },
    "id": "wdiCCF0Kvfop",
    "outputId": "c3a622ee-6a32-4e38-bbae-17331288148b"
   },
   "outputs": [
    {
     "data": {
      "text/plain": [
       "array([ 0.        ,  0.        ,  0.        , 12.14852453, 55.44856399,\n",
       "       42.23100799,  0.        ,  0.        , 13.70596191,  0.        ,\n",
       "       43.2185952 ,  5.7033775 , 47.46254536,  7.42309425, 11.85823365,\n",
       "        0.        ,  0.        , 13.53038193, 21.22111356,  0.        ,\n",
       "        0.        ,  0.        ,  0.        ,  0.        ,  0.        ,\n",
       "       18.66993032,  0.        ,  0.        ,  0.        , 15.81041778,\n",
       "        0.        ,  0.        ,  0.        ,  0.        ,  0.        ,\n",
       "        0.        ,  0.        ,  0.        ,  0.        ,  0.        ,\n",
       "        0.        ,  0.        ,  0.        ,  0.        , 18.14672268,\n",
       "        0.        ,  0.        ,  0.        ,  0.        , 15.51272953,\n",
       "        0.        ,  0.        ,  0.        ,  0.        ,  0.        ])"
      ]
     },
     "execution_count": 29,
     "metadata": {},
     "output_type": "execute_result"
    }
   ],
   "source": [
    "lasso.coef_"
   ]
  },
  {
   "cell_type": "code",
   "execution_count": null,
   "metadata": {
    "id": "-KRnMNg0v_du"
   },
   "outputs": [],
   "source": []
  }
 ],
 "metadata": {
  "colab": {
   "authorship_tag": "ABX9TyNce5RSgqvfzNy2qzanKSpe",
   "provenance": []
  },
  "kernelspec": {
   "display_name": "Python 3 (ipykernel)",
   "language": "python",
   "name": "python3"
  },
  "language_info": {
   "codemirror_mode": {
    "name": "ipython",
    "version": 3
   },
   "file_extension": ".py",
   "mimetype": "text/x-python",
   "name": "python",
   "nbconvert_exporter": "python",
   "pygments_lexer": "ipython3",
   "version": "3.12.4"
  }
 },
 "nbformat": 4,
 "nbformat_minor": 4
}
